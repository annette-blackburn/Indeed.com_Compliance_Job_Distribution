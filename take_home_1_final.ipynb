{
 "cells": [
  {
   "cell_type": "markdown",
   "metadata": {},
   "source": [
    "#### Annette Donald\n",
    "#### Take-Home #1\n",
    "#### Due: Tuesday 10/11/22\n",
    "\n",
    "#### Background: The computational project is designed with the goal of understanding the spatial distribution of compliance jobs in the United States. According to the U.S. Bureau of Labor Statistics, in 2021, there were a total of 334,340 compliance officers employed in the United States. Most of them are in charge of organizations’ internal compliance programs, under job titles such as “Occupational Health and Safety Specialist”, “Air Pollution Compliance Inspector”, and “Equal Employment Opportunity Investigator”. Despite the growing size of this job category, there is little understanding of its overall topology. How are these jobs distributed spatially as well as across industry? What range of mandates do compliance offices address? Which regulatory mandates generate the largest amount of compliance activity and which the least? "
   ]
  },
  {
   "cell_type": "code",
   "execution_count": 4,
   "metadata": {},
   "outputs": [],
   "source": [
    "import os \n",
    "import pandas as pd \n",
    "import geopandas as gpd\n",
    "import seaborn as sns \n",
    "import folium\n",
    "import random\n",
    "from folium import Choropleth, Circle, Marker\n",
    "from folium.plugins import HeatMap, MarkerCluster\n",
    "from shapely.geometry import Point"
   ]
  },
  {
   "cell_type": "markdown",
   "metadata": {},
   "source": [
    "#### Task 1: Integrate information from the “job_url_data” folder into one dictionary. The keys of the dictionary are individual urls scraped from the website, and the values are the earliest date that the corresponding urls were scraped. Save the results into a json file. How many unique job urls have been collected between May 17, 2022 and May 23, 2022? "
   ]
  },
  {
   "cell_type": "markdown",
   "metadata": {},
   "source": [
    "#### __21,260__ unique job URLs were collected between May 17, 2022 and May 23, 2022."
   ]
  },
  {
   "cell_type": "code",
   "execution_count": 5,
   "metadata": {},
   "outputs": [
    {
     "data": {
      "text/plain": [
       "60981"
      ]
     },
     "execution_count": 5,
     "metadata": {},
     "output_type": "execute_result"
    }
   ],
   "source": [
    "# Read CSV into DF\n",
    "#job_url_data_df = pd.DataFrame()#pd.read_csv(\"/Users/annettedblackburn/Desktop/CompSoc/Take_Home_1/indeed_scraped_data/job_url_data/job_urls_for_parsehub_5172022_v1.csv\")\n",
    "file_root = \"/Users/annettedblackburn/Desktop/CompSoc/Take_Home_1/indeed_scraped_data/job_url_data\"\n",
    "dfs = []\n",
    "for file in os.listdir(file_root):\n",
    "    if file == \".DS_Store\": continue\n",
    "    file_path = f\"{file_root}/{file}\"\n",
    "    dfs += [pd.read_csv(file_path)]\n",
    "\n",
    "job_url_data_df = pd.concat(dfs, ignore_index=True)\n",
    "len(job_url_data_df)"
   ]
  },
  {
   "cell_type": "code",
   "execution_count": 6,
   "metadata": {},
   "outputs": [
    {
     "data": {
      "text/plain": [
       "21260"
      ]
     },
     "execution_count": 6,
     "metadata": {},
     "output_type": "execute_result"
    }
   ],
   "source": [
    "job_url_data_df = job_url_data_df.drop_duplicates()\n",
    "len(job_url_data_df)"
   ]
  },
  {
   "cell_type": "code",
   "execution_count": 7,
   "metadata": {},
   "outputs": [
    {
     "data": {
      "text/html": [
       "<div>\n",
       "<style scoped>\n",
       "    .dataframe tbody tr th:only-of-type {\n",
       "        vertical-align: middle;\n",
       "    }\n",
       "\n",
       "    .dataframe tbody tr th {\n",
       "        vertical-align: top;\n",
       "    }\n",
       "\n",
       "    .dataframe thead th {\n",
       "        text-align: right;\n",
       "    }\n",
       "</style>\n",
       "<table border=\"1\" class=\"dataframe\">\n",
       "  <thead>\n",
       "    <tr style=\"text-align: right;\">\n",
       "      <th></th>\n",
       "      <th>job_url</th>\n",
       "    </tr>\n",
       "  </thead>\n",
       "  <tbody>\n",
       "    <tr>\n",
       "      <th>0</th>\n",
       "      <td>https://www.indeed.com/rc/clk?jk=64568c71be4aa...</td>\n",
       "    </tr>\n",
       "    <tr>\n",
       "      <th>1</th>\n",
       "      <td>https://www.indeed.com/rc/clk?jk=7b12bce39025f...</td>\n",
       "    </tr>\n",
       "    <tr>\n",
       "      <th>2</th>\n",
       "      <td>https://www.indeed.com/pagead/clk?mo=r&amp;ad=-6NY...</td>\n",
       "    </tr>\n",
       "    <tr>\n",
       "      <th>3</th>\n",
       "      <td>https://www.indeed.com/pagead/clk?mo=r&amp;ad=-6NY...</td>\n",
       "    </tr>\n",
       "    <tr>\n",
       "      <th>4</th>\n",
       "      <td>https://www.indeed.com/rc/clk?jk=16d3c0f3ed372...</td>\n",
       "    </tr>\n",
       "  </tbody>\n",
       "</table>\n",
       "</div>"
      ],
      "text/plain": [
       "                                             job_url\n",
       "0  https://www.indeed.com/rc/clk?jk=64568c71be4aa...\n",
       "1  https://www.indeed.com/rc/clk?jk=7b12bce39025f...\n",
       "2  https://www.indeed.com/pagead/clk?mo=r&ad=-6NY...\n",
       "3  https://www.indeed.com/pagead/clk?mo=r&ad=-6NY...\n",
       "4  https://www.indeed.com/rc/clk?jk=16d3c0f3ed372..."
      ]
     },
     "execution_count": 7,
     "metadata": {},
     "output_type": "execute_result"
    }
   ],
   "source": [
    "job_url_data_df.to_json(\"/Users/annettedblackburn/Desktop/CompSoc/Take_Home_1/job_url_dataframe.json\")\n",
    "job_url_data_df.head()"
   ]
  },
  {
   "cell_type": "code",
   "execution_count": 8,
   "metadata": {},
   "outputs": [],
   "source": [
    "# Names of Files\n",
    "\n",
    "#(\"/Users/annettedblackburn/Desktop/CompSoc/Take_Home_1/indeed_scraped_data/job_url_data/job_urls_for_parsehub_5172022_v2.csv\")\n",
    "#(\"/Users/annettedblackburn/Desktop/CompSoc/Take_Home_1/indeed_scraped_data/job_url_data/job_urls_for_parsehub_5172022_v3.csv\")\n",
    "#(\"/Users/annettedblackburn/Desktop/CompSoc/Take_Home_1/indeed_scraped_data/job_url_data/job_urls_for_parsehub_5172022_v4.csv\")\n",
    "#(\"/Users/annettedblackburn/Desktop/CompSoc/Take_Home_1/indeed_scraped_data/job_url_data/job_urls_for_parsehub_5172022_v5.csv\")\n",
    "\n",
    "#(\"/Users/annettedblackburn/Desktop/CompSoc/Take_Home_1/indeed_scraped_data/job_url_data/job_urls_for_parsehub_5182022_v1.csv\")\n",
    "\n",
    "#(\"/Users/annettedblackburn/Desktop/CompSoc/Take_Home_1/indeed_scraped_data/job_url_data/job_urls_for_parsehub_5192022_v1.csv\")\n",
    "#(\"/Users/annettedblackburn/Desktop/CompSoc/Take_Home_1/indeed_scraped_data/job_url_data/job_urls_for_parsehub_5192022_v2.csv\")\n",
    "\n",
    "#(\"/Users/annettedblackburn/Desktop/CompSoc/Take_Home_1/indeed_scraped_data/job_url_data/job_urls_for_parsehub_5202022_v1.csv\")\n",
    "#(\"/Users/annettedblackburn/Desktop/CompSoc/Take_Home_1/indeed_scraped_data/job_url_data/job_urls_for_parsehub_5202022_v2.csv\")\n",
    "\n",
    "#(\"/Users/annettedblackburn/Desktop/CompSoc/Take_Home_1/indeed_scraped_data/job_url_data/job_urls_for_parsehub_5212022_v1.csv\")\n",
    "#(\"/Users/annettedblackburn/Desktop/CompSoc/Take_Home_1/indeed_scraped_data/job_url_data/job_urls_for_parsehub_5212022_v2.csv\")\n",
    "\n",
    "#(\"/Users/annettedblackburn/Desktop/CompSoc/Take_Home_1/indeed_scraped_data/job_url_data/job_urls_for_parsehub_5222022_v1.csv\")\n",
    "#(\"/Users/annettedblackburn/Desktop/CompSoc/Take_Home_1/indeed_scraped_data/job_url_data/job_urls_for_parsehub_5222022_v2.csv\")\n",
    "\n",
    "#(\"/Users/annettedblackburn/Desktop/CompSoc/Take_Home_1/indeed_scraped_data/job_url_data/job_urls_for_parsehub_5232022_v1.csv\")\n",
    "#(\"/Users/annettedblackburn/Desktop/CompSoc/Take_Home_1/indeed_scraped_data/job_url_data/job_urls_for_parsehub_5232022_v2.csv\")"
   ]
  },
  {
   "cell_type": "code",
   "execution_count": null,
   "metadata": {},
   "outputs": [],
   "source": [
    "# adding dates to each CSV\n",
    "# job_url_data_df.insert(0, \"Date\", [5-17-22, 5-18-22, 5-19-22, 5-20-22, 5-21-22, 5-22-22, 5-23-22], True)\n",
    "# I'm not sure how to insert the dates for each URL in each CSV for each day, rather than simply adding the dates to only 7 URLs\n",
    "# I'm certain that I need this to be able to analyze the missing data distribution by date for Task 3"
   ]
  },
  {
   "cell_type": "markdown",
   "metadata": {},
   "source": [
    "#### Task 2: Clean and integrate information from the “job_info_data” folder into one data frame. Files from this subfolder might have two different formats. Some of them are csv files, while others are json files. The columns might also be named differently. Find ways to read each of the files into pandas, drop records with missing job titles and/or missing job descriptions, and combine them into one dataframe. Lastly, drop records with duplicate job urls, and then save them into a separate csv file. How many unique jobs are there in the cleaned dataframe? "
   ]
  },
  {
   "cell_type": "markdown",
   "metadata": {},
   "source": [
    "#### There are __15,784__ unique jobs in the cleaned dataframe."
   ]
  },
  {
   "cell_type": "code",
   "execution_count": 9,
   "metadata": {},
   "outputs": [],
   "source": [
    "def format_json_df(df):\n",
    "    elements = []\n",
    "    for idx, row in df.iterrows():\n",
    "        elements += [row['lnks']['link']]\n",
    "    # drop duplicates\n",
    "    df = pd.DataFrame({'lnks_link': elements})\n",
    "    df = df.drop_duplicates()\n",
    "    return df\n",
    "\n",
    "def format_csv_df(df):\n",
    "    # drop duplicates\n",
    "    df = df.drop_duplicates()\n",
    "    # drop NaNs\n",
    "    df = df.dropna()\n",
    "    return df"
   ]
  },
  {
   "cell_type": "code",
   "execution_count": 10,
   "metadata": {},
   "outputs": [],
   "source": [
    "file_root = \"/Users/annettedblackburn/Desktop/CompSoc/Take_Home_1/indeed_scraped_data/job_info_data\"\n",
    "dfs = []\n",
    "json_dfs = []\n",
    "csv_dfs = []\n",
    "for file in os.listdir(file_root):\n",
    "    if file == \".DS_Store\": continue\n",
    "    file_path = f\"{file_root}/{file}\"\n",
    "\n",
    "    file_extension = file[-3:]\n",
    "    # Indexing to detemrine if file is JSON or CSV\n",
    "    if file_extension == \"csv\":\n",
    "        df = pd.read_csv(file_path)\n",
    "        df = format_csv_df(df)\n",
    "        csv_dfs += [df]\n",
    "    else:\n",
    "        df = pd.read_json(file_path)#, lines=True, encoding=\"utf8\")\n",
    "        df = format_json_df(df)\n",
    "        json_dfs += [df]\n",
    "    \n",
    "    dfs += [df]\n",
    "\n",
    "# join all DFs together\n",
    "job_info_data_df = pd.concat(dfs, ignore_index=True)\n",
    "len(job_info_data_df)\n",
    "\n",
    "# drop duplicates, drop records with missing job titles and/or missing job descriptions, & drop duplicate URLs\n",
    "job_info_data_df = format_csv_df(job_info_data_df)\n",
    "\n",
    "job_info_data_df.head()\n",
    "\n",
    "job_info_data_df.to_csv(\"/Users/annettedblackburn/Desktop/CompSoc/Take_Home_1/job_info.csv\")\n"
   ]
  },
  {
   "cell_type": "code",
   "execution_count": 11,
   "metadata": {},
   "outputs": [
    {
     "data": {
      "text/html": [
       "<div>\n",
       "<style scoped>\n",
       "    .dataframe tbody tr th:only-of-type {\n",
       "        vertical-align: middle;\n",
       "    }\n",
       "\n",
       "    .dataframe tbody tr th {\n",
       "        vertical-align: top;\n",
       "    }\n",
       "\n",
       "    .dataframe thead th {\n",
       "        text-align: right;\n",
       "    }\n",
       "</style>\n",
       "<table border=\"1\" class=\"dataframe\">\n",
       "  <thead>\n",
       "    <tr style=\"text-align: right;\">\n",
       "      <th></th>\n",
       "      <th>lnks_link</th>\n",
       "      <th>lnks_job_title</th>\n",
       "      <th>lnks_company</th>\n",
       "      <th>lnks_company_url</th>\n",
       "      <th>lnks_company_location</th>\n",
       "      <th>lnks_job_description</th>\n",
       "    </tr>\n",
       "  </thead>\n",
       "  <tbody>\n",
       "    <tr>\n",
       "      <th>559</th>\n",
       "      <td>https://www.indeed.com/rc/clk?jk=069416ccc58dc...</td>\n",
       "      <td>Maintenance Controller (A&amp;P) Technician</td>\n",
       "      <td>Total Aviation Staffing, LLC</td>\n",
       "      <td>https://www.indeed.com/cmp/Total-Aviation-Staf...</td>\n",
       "      <td>Washington, DC 20500</td>\n",
       "      <td>Do you want to be part of a world-class team w...</td>\n",
       "    </tr>\n",
       "    <tr>\n",
       "      <th>560</th>\n",
       "      <td>https://www.indeed.com/pagead/clk?mo=r&amp;ad=-6NY...</td>\n",
       "      <td>Program Manager</td>\n",
       "      <td>Norton Staffing and Recruiting Group</td>\n",
       "      <td>https://www.indeed.com/cmp/Norton-Staffing-and...</td>\n",
       "      <td>Meriden, CT</td>\n",
       "      <td>BH: 3.1\\n***Our Client is looking for a Progra...</td>\n",
       "    </tr>\n",
       "    <tr>\n",
       "      <th>562</th>\n",
       "      <td>https://www.indeed.com/rc/clk?jk=263b35a70c9a8...</td>\n",
       "      <td>Senior Hydrogeologist, Boulder, Colorado</td>\n",
       "      <td>Formation Environmental</td>\n",
       "      <td>https://www.indeed.com/cmp/Formation-Environme...</td>\n",
       "      <td>Boulder, CO 80301</td>\n",
       "      <td>Senior Hydrogeologist\\nFormation Environmental...</td>\n",
       "    </tr>\n",
       "    <tr>\n",
       "      <th>563</th>\n",
       "      <td>https://www.indeed.com/rc/clk?jk=e15dbd7ec34e6...</td>\n",
       "      <td>Contract Administration Mgr I</td>\n",
       "      <td>Dept of Family &amp; Protectve Svc</td>\n",
       "      <td>https://www.indeed.com/cmp/Texas-Health-and-Hu...</td>\n",
       "      <td>Austin, TX 78751</td>\n",
       "      <td>Contract Administration Mgr I - THIS POISTION ...</td>\n",
       "    </tr>\n",
       "    <tr>\n",
       "      <th>564</th>\n",
       "      <td>https://www.indeed.com/rc/clk?jk=d0e4f6dc1721c...</td>\n",
       "      <td>Sr. Quality Assurance</td>\n",
       "      <td>Amgen</td>\n",
       "      <td>https://www.indeed.com/cmp/Amgen?campaignid=mo...</td>\n",
       "      <td>Cambridge, MA 02139</td>\n",
       "      <td>HOW MIGHT YOU DEFY IMAGINATION?\\nYou’ve earned...</td>\n",
       "    </tr>\n",
       "  </tbody>\n",
       "</table>\n",
       "</div>"
      ],
      "text/plain": [
       "                                             lnks_link  \\\n",
       "559  https://www.indeed.com/rc/clk?jk=069416ccc58dc...   \n",
       "560  https://www.indeed.com/pagead/clk?mo=r&ad=-6NY...   \n",
       "562  https://www.indeed.com/rc/clk?jk=263b35a70c9a8...   \n",
       "563  https://www.indeed.com/rc/clk?jk=e15dbd7ec34e6...   \n",
       "564  https://www.indeed.com/rc/clk?jk=d0e4f6dc1721c...   \n",
       "\n",
       "                               lnks_job_title  \\\n",
       "559   Maintenance Controller (A&P) Technician   \n",
       "560                           Program Manager   \n",
       "562  Senior Hydrogeologist, Boulder, Colorado   \n",
       "563             Contract Administration Mgr I   \n",
       "564                     Sr. Quality Assurance   \n",
       "\n",
       "                             lnks_company  \\\n",
       "559          Total Aviation Staffing, LLC   \n",
       "560  Norton Staffing and Recruiting Group   \n",
       "562               Formation Environmental   \n",
       "563        Dept of Family & Protectve Svc   \n",
       "564                                 Amgen   \n",
       "\n",
       "                                      lnks_company_url lnks_company_location  \\\n",
       "559  https://www.indeed.com/cmp/Total-Aviation-Staf...  Washington, DC 20500   \n",
       "560  https://www.indeed.com/cmp/Norton-Staffing-and...           Meriden, CT   \n",
       "562  https://www.indeed.com/cmp/Formation-Environme...     Boulder, CO 80301   \n",
       "563  https://www.indeed.com/cmp/Texas-Health-and-Hu...      Austin, TX 78751   \n",
       "564  https://www.indeed.com/cmp/Amgen?campaignid=mo...   Cambridge, MA 02139   \n",
       "\n",
       "                                  lnks_job_description  \n",
       "559  Do you want to be part of a world-class team w...  \n",
       "560  BH: 3.1\\n***Our Client is looking for a Progra...  \n",
       "562  Senior Hydrogeologist\\nFormation Environmental...  \n",
       "563  Contract Administration Mgr I - THIS POISTION ...  \n",
       "564  HOW MIGHT YOU DEFY IMAGINATION?\\nYou’ve earned...  "
      ]
     },
     "execution_count": 11,
     "metadata": {},
     "output_type": "execute_result"
    }
   ],
   "source": [
    "csv = csv_dfs[0]\n",
    "csv.head()"
   ]
  },
  {
   "cell_type": "code",
   "execution_count": 12,
   "metadata": {},
   "outputs": [
    {
     "data": {
      "text/html": [
       "<div>\n",
       "<style scoped>\n",
       "    .dataframe tbody tr th:only-of-type {\n",
       "        vertical-align: middle;\n",
       "    }\n",
       "\n",
       "    .dataframe tbody tr th {\n",
       "        vertical-align: top;\n",
       "    }\n",
       "\n",
       "    .dataframe thead th {\n",
       "        text-align: right;\n",
       "    }\n",
       "</style>\n",
       "<table border=\"1\" class=\"dataframe\">\n",
       "  <thead>\n",
       "    <tr style=\"text-align: right;\">\n",
       "      <th></th>\n",
       "      <th>lnks_link</th>\n",
       "    </tr>\n",
       "  </thead>\n",
       "  <tbody>\n",
       "    <tr>\n",
       "      <th>0</th>\n",
       "      <td>https://www.indeed.com/pagead/clk?mo=r&amp;ad=-6NY...</td>\n",
       "    </tr>\n",
       "    <tr>\n",
       "      <th>1</th>\n",
       "      <td>https://www.indeed.com/rc/clk?jk=a95cd2409de80...</td>\n",
       "    </tr>\n",
       "    <tr>\n",
       "      <th>2</th>\n",
       "      <td>https://www.indeed.com/pagead/clk?mo=r&amp;ad=-6NY...</td>\n",
       "    </tr>\n",
       "    <tr>\n",
       "      <th>3</th>\n",
       "      <td>https://www.indeed.com/pagead/clk?mo=r&amp;ad=-6NY...</td>\n",
       "    </tr>\n",
       "    <tr>\n",
       "      <th>4</th>\n",
       "      <td>https://www.indeed.com/rc/clk?jk=df119ccd5529f...</td>\n",
       "    </tr>\n",
       "  </tbody>\n",
       "</table>\n",
       "</div>"
      ],
      "text/plain": [
       "                                           lnks_link\n",
       "0  https://www.indeed.com/pagead/clk?mo=r&ad=-6NY...\n",
       "1  https://www.indeed.com/rc/clk?jk=a95cd2409de80...\n",
       "2  https://www.indeed.com/pagead/clk?mo=r&ad=-6NY...\n",
       "3  https://www.indeed.com/pagead/clk?mo=r&ad=-6NY...\n",
       "4  https://www.indeed.com/rc/clk?jk=df119ccd5529f..."
      ]
     },
     "execution_count": 12,
     "metadata": {},
     "output_type": "execute_result"
    }
   ],
   "source": [
    "json = json_dfs[0]\n",
    "json.head()"
   ]
  },
  {
   "cell_type": "code",
   "execution_count": 13,
   "metadata": {},
   "outputs": [
    {
     "data": {
      "text/plain": [
       "'https://www.indeed.com/pagead/clk?mo=r&ad=-6NYlbfkN0DPiPBVS3KmjTqjymWZvPzPJEsEe9JFHhSvGO4UmOZP0kOy32CS6_PT7hbGwRraUefevT5uKfDJ58DCrs1u2n20-acAq4xHlznVkm-Os4t7F1qSSqUfbeARoCETXdHx3W8oG0cxzBfvqNNbfFJYFsMYy2t8AAyq4hnYB1GCJvQnZ-5sv0JufMAs200nJqN_DUzm4b8XynUuVB532UNHUkve_CFwfb4A1iTdWvc9iDCX9w321LGUK2R8POoXCdI2BKAyYZVVyYSwm8TrInNLwMGbysppDdYjLhmoRpl9dA7O_pbVeobqtCa_9OaxbRdaREfHBVRI9cwIYEFUSjOC1T9xrqcormXhVgWcbHewzXI4D5DS6TdFP5Ck7frQTev1zHeaUiHXnR3BipOuL_zpxHwIIIKqGqcsgtKsBxR2nZDLqglnHmvAy0uWtGD5a6rhjDn3SjjVE7JBkYRg_FbzvLGLoulimLSEJqmg36LeCNhy1F4qAhgxeUOF71ipbbVJPCMNO1i1Bc-Vl2ZeW-7CCzDoo52k21XIlOVs-br4UB17ZwuyEf50vRaBdLV0X7s1G-Fyzu859tUfzhHMsV4TN4JjS4X__EyTt8W6NSzR1QkKaL6W83rfPwOydE7ocPyVvwk7mDMs8coMMPjRhtRsd7SFRMWZiH-kAVaoGLVAMK_RSvm3tux3D-Z-pF7FmyDn1qHRLNpUPHD_DL0mNxyAMigzk8s1KTm88sB23Gl8DaAGweqfS9t3hNT14DKRj-wwzIz2QvpLSK1WoOWL-z3yWey7Q-60Iw_WTueukUWA4VMrvSggF3GlJkKzgTnVy1N_OyBdIyDmXyw0f2KoDLbR6kHJ&p=2&fvj=0&vjs=3'"
      ]
     },
     "execution_count": 13,
     "metadata": {},
     "output_type": "execute_result"
    }
   ],
   "source": [
    "json.iat[0, 0]"
   ]
  },
  {
   "cell_type": "code",
   "execution_count": 14,
   "metadata": {},
   "outputs": [
    {
     "data": {
      "text/plain": [
       "15784"
      ]
     },
     "execution_count": 14,
     "metadata": {},
     "output_type": "execute_result"
    }
   ],
   "source": [
    "len(job_info_data_df)\n"
   ]
  },
  {
   "cell_type": "markdown",
   "metadata": {},
   "source": [
    "#### Task 3: Merge between “job_url_data” and “job_info_data”. What is the percentage of jobs that can be matched between these two data sources? How are the missing data (unmatched job urls) distributed by date? What about matched job urls? How many complete job listings were we able to collect each day? How would you interpret this result with respect to data quality? Does it mean that our data collection strategy is flawed and thus introduces non-random sampling biases? "
   ]
  },
  {
   "cell_type": "markdown",
   "metadata": {},
   "source": [
    "#### The percentage of jobs that can matched between the two data sources is roughly __79.7%__.\n",
    "#### The missing data (unmatched job URLs) are distributed by date by ________.\n",
    "#### The matched job URLs are distributed by date by _____.\n",
    "#### There are ____ complete job listings collected each day.\n",
    "#### This means _____ with respect to the quality of the data.\n",
    "#### __Yes__, the data collection strategy is flawed because 20% of the data are missing and it's acceptable to have 5% or less missing data."
   ]
  },
  {
   "cell_type": "code",
   "execution_count": null,
   "metadata": {},
   "outputs": [],
   "source": [
    "job_info_data_df['job_url'] = job_info_data_df.pop('lnks_link')"
   ]
  },
  {
   "cell_type": "code",
   "execution_count": 21,
   "metadata": {},
   "outputs": [
    {
     "data": {
      "text/html": [
       "<div>\n",
       "<style scoped>\n",
       "    .dataframe tbody tr th:only-of-type {\n",
       "        vertical-align: middle;\n",
       "    }\n",
       "\n",
       "    .dataframe tbody tr th {\n",
       "        vertical-align: top;\n",
       "    }\n",
       "\n",
       "    .dataframe thead th {\n",
       "        text-align: right;\n",
       "    }\n",
       "</style>\n",
       "<table border=\"1\" class=\"dataframe\">\n",
       "  <thead>\n",
       "    <tr style=\"text-align: right;\">\n",
       "      <th></th>\n",
       "      <th>lnks_job_title</th>\n",
       "      <th>lnks_company</th>\n",
       "      <th>lnks_company_url</th>\n",
       "      <th>lnks_company_location</th>\n",
       "      <th>lnks_job_description</th>\n",
       "      <th>job_url</th>\n",
       "    </tr>\n",
       "  </thead>\n",
       "  <tbody>\n",
       "    <tr>\n",
       "      <th>0</th>\n",
       "      <td>Maintenance Controller (A&amp;P) Technician</td>\n",
       "      <td>Total Aviation Staffing, LLC</td>\n",
       "      <td>https://www.indeed.com/cmp/Total-Aviation-Staf...</td>\n",
       "      <td>Washington, DC 20500</td>\n",
       "      <td>Do you want to be part of a world-class team w...</td>\n",
       "      <td>https://www.indeed.com/rc/clk?jk=069416ccc58dc...</td>\n",
       "    </tr>\n",
       "    <tr>\n",
       "      <th>1</th>\n",
       "      <td>Program Manager</td>\n",
       "      <td>Norton Staffing and Recruiting Group</td>\n",
       "      <td>https://www.indeed.com/cmp/Norton-Staffing-and...</td>\n",
       "      <td>Meriden, CT</td>\n",
       "      <td>BH: 3.1\\n***Our Client is looking for a Progra...</td>\n",
       "      <td>https://www.indeed.com/pagead/clk?mo=r&amp;ad=-6NY...</td>\n",
       "    </tr>\n",
       "    <tr>\n",
       "      <th>2</th>\n",
       "      <td>Senior Hydrogeologist, Boulder, Colorado</td>\n",
       "      <td>Formation Environmental</td>\n",
       "      <td>https://www.indeed.com/cmp/Formation-Environme...</td>\n",
       "      <td>Boulder, CO 80301</td>\n",
       "      <td>Senior Hydrogeologist\\nFormation Environmental...</td>\n",
       "      <td>https://www.indeed.com/rc/clk?jk=263b35a70c9a8...</td>\n",
       "    </tr>\n",
       "    <tr>\n",
       "      <th>3</th>\n",
       "      <td>Contract Administration Mgr I</td>\n",
       "      <td>Dept of Family &amp; Protectve Svc</td>\n",
       "      <td>https://www.indeed.com/cmp/Texas-Health-and-Hu...</td>\n",
       "      <td>Austin, TX 78751</td>\n",
       "      <td>Contract Administration Mgr I - THIS POISTION ...</td>\n",
       "      <td>https://www.indeed.com/rc/clk?jk=e15dbd7ec34e6...</td>\n",
       "    </tr>\n",
       "    <tr>\n",
       "      <th>4</th>\n",
       "      <td>Sr. Quality Assurance</td>\n",
       "      <td>Amgen</td>\n",
       "      <td>https://www.indeed.com/cmp/Amgen?campaignid=mo...</td>\n",
       "      <td>Cambridge, MA 02139</td>\n",
       "      <td>HOW MIGHT YOU DEFY IMAGINATION?\\nYou’ve earned...</td>\n",
       "      <td>https://www.indeed.com/rc/clk?jk=d0e4f6dc1721c...</td>\n",
       "    </tr>\n",
       "  </tbody>\n",
       "</table>\n",
       "</div>"
      ],
      "text/plain": [
       "                             lnks_job_title  \\\n",
       "0   Maintenance Controller (A&P) Technician   \n",
       "1                           Program Manager   \n",
       "2  Senior Hydrogeologist, Boulder, Colorado   \n",
       "3             Contract Administration Mgr I   \n",
       "4                     Sr. Quality Assurance   \n",
       "\n",
       "                           lnks_company  \\\n",
       "0          Total Aviation Staffing, LLC   \n",
       "1  Norton Staffing and Recruiting Group   \n",
       "2               Formation Environmental   \n",
       "3        Dept of Family & Protectve Svc   \n",
       "4                                 Amgen   \n",
       "\n",
       "                                    lnks_company_url lnks_company_location  \\\n",
       "0  https://www.indeed.com/cmp/Total-Aviation-Staf...  Washington, DC 20500   \n",
       "1  https://www.indeed.com/cmp/Norton-Staffing-and...           Meriden, CT   \n",
       "2  https://www.indeed.com/cmp/Formation-Environme...     Boulder, CO 80301   \n",
       "3  https://www.indeed.com/cmp/Texas-Health-and-Hu...      Austin, TX 78751   \n",
       "4  https://www.indeed.com/cmp/Amgen?campaignid=mo...   Cambridge, MA 02139   \n",
       "\n",
       "                                lnks_job_description  \\\n",
       "0  Do you want to be part of a world-class team w...   \n",
       "1  BH: 3.1\\n***Our Client is looking for a Progra...   \n",
       "2  Senior Hydrogeologist\\nFormation Environmental...   \n",
       "3  Contract Administration Mgr I - THIS POISTION ...   \n",
       "4  HOW MIGHT YOU DEFY IMAGINATION?\\nYou’ve earned...   \n",
       "\n",
       "                                             job_url  \n",
       "0  https://www.indeed.com/rc/clk?jk=069416ccc58dc...  \n",
       "1  https://www.indeed.com/pagead/clk?mo=r&ad=-6NY...  \n",
       "2  https://www.indeed.com/rc/clk?jk=263b35a70c9a8...  \n",
       "3  https://www.indeed.com/rc/clk?jk=e15dbd7ec34e6...  \n",
       "4  https://www.indeed.com/rc/clk?jk=d0e4f6dc1721c...  "
      ]
     },
     "execution_count": 21,
     "metadata": {},
     "output_type": "execute_result"
    }
   ],
   "source": [
    "job_info_data_df.head()"
   ]
  },
  {
   "cell_type": "code",
   "execution_count": 27,
   "metadata": {},
   "outputs": [],
   "source": [
    "# merge \n",
    "job_url_info_merged_df = job_info_data_df.merge(job_url_data_df, on=['job_url'])"
   ]
  },
  {
   "cell_type": "code",
   "execution_count": 34,
   "metadata": {},
   "outputs": [
    {
     "name": "stdout",
     "output_type": "stream",
     "text": [
      "Number of unique URLs: 12592\n"
     ]
    }
   ],
   "source": [
    "unique_url_count = len(pd.unique(job_url_info_merged_df['job_url']))\n",
    "print(\"Number of unique URLs:\", unique_url_count)"
   ]
  },
  {
   "cell_type": "code",
   "execution_count": 35,
   "metadata": {},
   "outputs": [
    {
     "data": {
      "text/plain": [
       "0.7977698935631019"
      ]
     },
     "execution_count": 35,
     "metadata": {},
     "output_type": "execute_result"
    }
   ],
   "source": [
    "# getting percentage of data that are matched between two sources from unique merged values and job listing URLs from job_info_data_df\n",
    "12592/15784\n"
   ]
  }
 ],
 "metadata": {
  "kernelspec": {
   "display_name": "Python 3.8.12 ('CompSoc')",
   "language": "python",
   "name": "python3"
  },
  "language_info": {
   "codemirror_mode": {
    "name": "ipython",
    "version": 3
   },
   "file_extension": ".py",
   "mimetype": "text/x-python",
   "name": "python",
   "nbconvert_exporter": "python",
   "pygments_lexer": "ipython3",
   "version": "3.8.12"
  },
  "orig_nbformat": 4,
  "vscode": {
   "interpreter": {
    "hash": "2e72d8f7674ded160449a739123ccefba4c7f0d28538ac24725962167af4dbe0"
   }
  }
 },
 "nbformat": 4,
 "nbformat_minor": 2
}
